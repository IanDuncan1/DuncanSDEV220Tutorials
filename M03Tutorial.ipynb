{
 "cells": [
  {
   "cell_type": "code",
   "execution_count": null,
   "id": "5fc42dd0-2ece-4695-9b80-ad486bdcacf3",
   "metadata": {},
   "outputs": [
    {
     "name": "stdin",
     "output_type": "stream",
     "text": [
      "How long is the array?  5\n",
      "Enter only 0s, 1s, and 2s:  0\n",
      "Enter only 0s, 1s, and 2s:  1\n",
      "Enter only 0s, 1s, and 2s:  2\n",
      "Enter only 0s, 1s, and 2s:  2\n",
      "Enter only 0s, 1s, and 2s:  0\n"
     ]
    },
    {
     "name": "stdout",
     "output_type": "stream",
     "text": [
      "[0, 0, 1, 2, 2]\n"
     ]
    }
   ],
   "source": [
    "list=[]\n",
    "i = int(input(\"How long is the array? \"))\n",
    "while (i>0):\n",
    "    list.append(int(input(\"Enter only 0s, 1s, and 2s: \")))\n",
    "    i-=1\n",
    "list.sort()\n",
    "print(list)\n",
    "\n",
    "list=[]\n",
    "i = int(input(\"How long is the array? \"))\n",
    "while (i>0):\n",
    "    list.append(int(input(\"Enter value: \")))\n",
    "    i-=1\n",
    "s=int(input(\"What do you want to look for?: \"))\n",
    "if s in list:\n",
    "    print(s, \"is in the list\")\n",
    "else:\n",
    "    print(s, \" is not in the list\")\n"
   ]
  },
  {
   "cell_type": "code",
   "execution_count": null,
   "id": "0da28842-65a6-4abf-9056-29920254d0c3",
   "metadata": {},
   "outputs": [],
   "source": []
  }
 ],
 "metadata": {
  "kernelspec": {
   "display_name": "Python 3 (ipykernel)",
   "language": "python",
   "name": "python3"
  },
  "language_info": {
   "codemirror_mode": {
    "name": "ipython",
    "version": 3
   },
   "file_extension": ".py",
   "mimetype": "text/x-python",
   "name": "python",
   "nbconvert_exporter": "python",
   "pygments_lexer": "ipython3",
   "version": "3.11.7"
  }
 },
 "nbformat": 4,
 "nbformat_minor": 5
}
